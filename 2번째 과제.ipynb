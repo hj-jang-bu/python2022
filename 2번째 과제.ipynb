{
 "cells": [
  {
   "cell_type": "markdown",
   "metadata": {},
   "source": [
    "# 12312312312파이썬 프로그래밍, 2번째 과제\n",
    "\n",
    "- 제출기한: 4월 22일  23:59\n",
    "- 아래 내용을 작성하고 작성한 ``Jupyter Notebook 파일 (*.ipynb)``을 사이버캠퍼스에 업로드하세요.\n",
    "- 업로드 된 파일의 파일 확장자명이 ipynb 맞는지 꼭 확인하세요.\n",
    "- Jupyter Notebook에서 Python 프로그램을 실행하기 위해서는 ``In []`` 으로 표시된 입력창안에 Python 코드를 입력하고 ``Control + Enter`` 혹은 위의 ``▶Run`` 버튼을 눌러 실행하면 됩니다."
   ]
  },
  {
   "cell_type": "code",
   "execution_count": null,
   "metadata": {
    "vscode": {
     "languageId": "plaintext"
    }
   },
   "outputs": [],
   "source": [
    "#학번: \n",
    "#이름: "
   ]
  },
  {
   "cell_type": "markdown",
   "metadata": {},
   "source": [
    "## 1. (1점)\n",
    "\n",
    "아래의 수학 공식을 함수로 표현하는 sum_two 함수룰 구현하라\n",
    "\n",
    "$f(x,y) = x + 2.5 * y$\n",
    "\n",
    "(1) 함수의 이름: ``sum_two``<br>\n",
    "(2) 함수의 입력 패러미터 (갯수, 타입 등): 2개 숫자 <br>\n",
    "(3) 함수의 역할 (입력을 받아 어떻게 처리할 것인가?): $ x+ 2.5 *y $<br>\n",
    "(4) 함수의 출력 : 한개의 숫자 <br>\n",
    "\n",
    "그리고, \n",
    "``\n",
    "sum_two(4, 6)와 sum_two(-1, 3)\n",
    "``\n",
    "의 결과를 출력하라"
   ]
  },
  {
   "cell_type": "code",
   "execution_count": 1,
   "metadata": {},
   "outputs": [
    {
     "name": "stdout",
     "output_type": "stream",
     "text": [
      "19.0\n",
      "6.5\n"
     ]
    }
   ],
   "source": [
    "def sum_two(x, y):\n",
    "    return x + 2.5*y\n",
    "print(sum_two(4,6))\n",
    "print(sum_two(-1,3))"
   ]
  },
  {
   "cell_type": "markdown",
   "metadata": {},
   "source": [
    "## 2. (2점)\n",
    "생년월일 (YYYYMMDD)을 문자열로 입력 받아, \"당신은 XX살입니다.\" 라고 나이를 계산하는 calcAge() 함수를 작성하라\n",
    "나이는 <b>문자열 슬라이스(인덱스)</b>를 통해 입력 받은 문자열을 통해 태어난 연도를 얻고, 이를 올해 2022년과의 차이로 계산하라.\n",
    "\n",
    "예)\n",
    "\n",
    "생년월일 입력(YYYYMMDD): 19940305<br>\n",
    "당신은 28살입니다."
   ]
  },
  {
   "cell_type": "code",
   "execution_count": 8,
   "metadata": {},
   "outputs": [
    {
     "name": "stdout",
     "output_type": "stream",
     "text": [
      "생년월일을 입력하세요(YYYYMMDD)19940305\n",
      "당신은 28 살입니다.\n"
     ]
    }
   ],
   "source": [
    "def calcAge():\n",
    "    birth = input(\"생년월일을 입력하세요(YYYYMMDD)\")\n",
    "    age = 2022 - int(birth[0:4])\n",
    "    print('당신은',age,'살입니다.')\n",
    "calcAge()"
   ]
  },
  {
   "cell_type": "markdown",
   "metadata": {},
   "source": [
    "## 3. (1점)\n",
    "올림픽은 4년에 한번 열린다. 2024년에 개최될 하계  올림픽 부터 2050년 까지 올림픽이 열리는 연도를 for문을 활용하여 출력하라.\n",
    "\n",
    "예) <Br>\n",
    "2024년<br>\n",
    "2028년<br>\n",
    "2032년<br>\n",
    "2036년<br>\n",
    "2040년<br>\n",
    "2044년<br>\n",
    "2048년<br>\n",
    "\n"
   ]
  },
  {
   "cell_type": "code",
   "execution_count": 12,
   "metadata": {},
   "outputs": [
    {
     "name": "stdout",
     "output_type": "stream",
     "text": [
      "2024 년\n",
      "2028 년\n",
      "2032 년\n",
      "2036 년\n",
      "2040 년\n",
      "2044 년\n",
      "2048 년\n"
     ]
    }
   ],
   "source": [
    "   for year in range(2024, 2050):\n",
    "        if (year-2024)%4==0:\n",
    "            print(year,'년')"
   ]
  },
  {
   "cell_type": "markdown",
   "metadata": {},
   "source": [
    "## 4. (2점)\n",
    "연도가 주어졌을 때, 해당 연도가 윤년이면 True, 윤년이 아니면 False를 반환하는 testLeapYear() 함수를 구현하라.\n",
    "함수의 매개변수로는 검사할 연도를 integer 형태로 전달할 수 있게 하고, 윤년 여부를 Boolean 형태로 <b>반환</b>되게 하라.\n",
    "또한 개발한 testLeapYear() 함수를 이용하여 2022년 부터 2122년까지 윤년인 해를 출력하라\n",
    "\n",
    "연도가 4로 나누어 떨어지면 윤년이다. <br>\n",
    "연도가 4로 나누어 떨어지는 해 중 100으로 나누어 떨어지면 평년(윤년이 아니다.)이다. 100으로 나누어 떨어지지않으면 윤년이다. <br>\n",
    "연도가 4와 100으로 나누어 떨어지는 해 중 400으로 나누어 떨어지는 해는 윤년이다.<br>\n",
    "\n"
   ]
  },
  {
   "cell_type": "code",
   "execution_count": 28,
   "metadata": {},
   "outputs": [
    {
     "name": "stdout",
     "output_type": "stream",
     "text": [
      "2024 는 윤년입니다.\n",
      "2028 는 윤년입니다.\n",
      "2032 는 윤년입니다.\n",
      "2036 는 윤년입니다.\n",
      "2040 는 윤년입니다.\n",
      "2044 는 윤년입니다.\n",
      "2048 는 윤년입니다.\n",
      "2052 는 윤년입니다.\n",
      "2056 는 윤년입니다.\n",
      "2060 는 윤년입니다.\n",
      "2064 는 윤년입니다.\n",
      "2068 는 윤년입니다.\n",
      "2072 는 윤년입니다.\n",
      "2076 는 윤년입니다.\n",
      "2080 는 윤년입니다.\n",
      "2084 는 윤년입니다.\n",
      "2088 는 윤년입니다.\n",
      "2092 는 윤년입니다.\n",
      "2096 는 윤년입니다.\n",
      "2104 는 윤년입니다.\n",
      "2108 는 윤년입니다.\n",
      "2112 는 윤년입니다.\n",
      "2116 는 윤년입니다.\n",
      "2120 는 윤년입니다.\n"
     ]
    }
   ],
   "source": [
    "def testLeapYear(year):\n",
    "    if (year % 4 ==0):\n",
    "        if (year % 100 ==0):\n",
    "            if (year % 400 ==0):\n",
    "                # 윤년\n",
    "                return True\n",
    "            else:\n",
    "                # 평년\n",
    "                return False\n",
    "        else:\n",
    "            # 윤년\n",
    "            return True\n",
    "    else:\n",
    "        #평년\n",
    "        return False\n",
    "for year in range(2022, 2123):\n",
    "    if (testLeapYear(year)):\n",
    "        print(year, \"는 윤년입니다.\")\n",
    "        \n",
    "    "
   ]
  },
  {
   "cell_type": "markdown",
   "metadata": {},
   "source": [
    "## 5. (2점)\n",
    "숫자 n을 입력받고, 아래와 같은 패턴으로 n줄 (매 줄마다 별의 갯수가 n개에서 1개씩 감소) 출력하는 reverse_star() 함수를 작성하라\n",
    "\n",
    "\\>\\>\\> reverse_star() <br>\n",
    "\\>\\>\\> 숫자 n 을 입력하시오 : 10 <br>\n",
    "<pre>\n",
    "**********\n",
    "*********\n",
    "********\n",
    "*******\n",
    "******\n",
    "*****\n",
    "****\n",
    "***\n",
    "**\n",
    "*\n",
    "</pre>\n",
    "reverse_star() 함수를 호출하였을 때 숫자 n을 입력받도록 하고, 함수 호출은 별다른 매개변수 없이 이뤄진다\n",
    "다양한 숫자 n 에 대응할 수 있도록 반복문을 활용하여라"
   ]
  },
  {
   "cell_type": "code",
   "execution_count": 26,
   "metadata": {},
   "outputs": [
    {
     "name": "stdout",
     "output_type": "stream",
     "text": [
      "n을 입력하라5\n",
      "*****\n",
      "****\n",
      "***\n",
      "**\n",
      "*\n",
      "----------\n"
     ]
    }
   ],
   "source": [
    "n=int(input(\"n을 입력하라\"))\n",
    "#n = 10\n",
    "while (n>0): \n",
    "    for i in range(0,n):\n",
    "        print(\"*\",end=\"\")\n",
    "    print()\n",
    "    n = n- 1\n",
    "\n",
    "print(\"-\"*10)\n",
    "for x in range(n, 0, -1):\n",
    "    print(\"*\"*x)\n"
   ]
  },
  {
   "cell_type": "code",
   "execution_count": null,
   "metadata": {},
   "outputs": [],
   "source": []
  },
  {
   "cell_type": "code",
   "execution_count": null,
   "metadata": {},
   "outputs": [],
   "source": []
  },
  {
   "cell_type": "code",
   "execution_count": null,
   "metadata": {},
   "outputs": [],
   "source": []
  },
  {
   "cell_type": "code",
   "execution_count": null,
   "metadata": {},
   "outputs": [],
   "source": []
  },
  {
   "cell_type": "code",
   "execution_count": null,
   "metadata": {},
   "outputs": [],
   "source": []
  }
 ],
 "metadata": {
  "kernelspec": {
   "display_name": "Python 3 (ipykernel)",
   "language": "python",
   "name": "python3"
  },
  "language_info": {
   "codemirror_mode": {
    "name": "ipython",
    "version": 3
   },
   "file_extension": ".py",
   "mimetype": "text/x-python",
   "name": "python",
   "nbconvert_exporter": "python",
   "pygments_lexer": "ipython3",
   "version": "3.9.7"
  }
 },
 "nbformat": 4,
 "nbformat_minor": 2
}
